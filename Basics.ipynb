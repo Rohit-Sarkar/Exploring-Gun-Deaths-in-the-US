{
 "cells": [
  {
   "cell_type": "code",
   "execution_count": 3,
   "metadata": {
    "collapsed": false
   },
   "outputs": [
    {
     "name": "stdout",
     "output_type": "stream",
     "text": [
      "[['', 'year', 'month', 'intent', 'police', 'sex', 'age', 'race', 'hispanic', 'place', 'education'], ['1', '2012', '01', 'Suicide', '0', 'M', '34', 'Asian/Pacific Islander', '100', 'Home', '4'], ['2', '2012', '01', 'Suicide', '0', 'F', '21', 'White', '100', 'Street', '3'], ['3', '2012', '01', 'Suicide', '0', 'M', '60', 'White', '100', 'Other specified', '4'], ['4', '2012', '02', 'Suicide', '0', 'M', '64', 'White', '100', 'Home', '4']]\n"
     ]
    }
   ],
   "source": [
    "import csv\n",
    "\n",
    "file = open('guns.csv')\n",
    "data = list(csv.reader(file))\n",
    "\n",
    "print(data[:5])"
   ]
  },
  {
   "cell_type": "code",
   "execution_count": 4,
   "metadata": {
    "collapsed": false
   },
   "outputs": [
    {
     "name": "stdout",
     "output_type": "stream",
     "text": [
      "['', 'year', 'month', 'intent', 'police', 'sex', 'age', 'race', 'hispanic', 'place', 'education']\n",
      "[['1', '2012', '01', 'Suicide', '0', 'M', '34', 'Asian/Pacific Islander', '100', 'Home', '4'], ['2', '2012', '01', 'Suicide', '0', 'F', '21', 'White', '100', 'Street', '3'], ['3', '2012', '01', 'Suicide', '0', 'M', '60', 'White', '100', 'Other specified', '4'], ['4', '2012', '02', 'Suicide', '0', 'M', '64', 'White', '100', 'Home', '4'], ['5', '2012', '02', 'Suicide', '0', 'M', '31', 'White', '100', 'Other specified', '2']]\n"
     ]
    }
   ],
   "source": [
    "headers = data[0]\n",
    "data = data[1:]\n",
    "\n",
    "print(headers)\n",
    "print(data[:5])"
   ]
  },
  {
   "cell_type": "markdown",
   "metadata": {},
   "source": [
    "### Maximum gun deaths are happended in 2013"
   ]
  },
  {
   "cell_type": "code",
   "execution_count": 5,
   "metadata": {
    "collapsed": false
   },
   "outputs": [
    {
     "name": "stdout",
     "output_type": "stream",
     "text": [
      "{'2013': 33636, '2012': 33563, '2014': 33599}\n"
     ]
    }
   ],
   "source": [
    "years = [row[1] for row in data]\n",
    "\n",
    "years_counts = {}\n",
    "\n",
    "for i in years:\n",
    "    if i in years_counts:\n",
    "        years_counts[i] += 1\n",
    "    else:\n",
    "        years_counts[i] = 1\n",
    "        \n",
    "print(years_counts)"
   ]
  },
  {
   "cell_type": "code",
   "execution_count": 6,
   "metadata": {
    "collapsed": false
   },
   "outputs": [
    {
     "name": "stdout",
     "output_type": "stream",
     "text": [
      "{datetime.datetime(2014, 10, 1, 0, 0): 2865, datetime.datetime(2014, 3, 1, 0, 0): 2684, datetime.datetime(2012, 1, 1, 0, 0): 2758, datetime.datetime(2012, 7, 1, 0, 0): 3026, datetime.datetime(2012, 2, 1, 0, 0): 2357, datetime.datetime(2013, 7, 1, 0, 0): 3079, datetime.datetime(2014, 1, 1, 0, 0): 2651, datetime.datetime(2012, 10, 1, 0, 0): 2733, datetime.datetime(2012, 9, 1, 0, 0): 2852, datetime.datetime(2014, 12, 1, 0, 0): 2857, datetime.datetime(2013, 2, 1, 0, 0): 2375, datetime.datetime(2013, 11, 1, 0, 0): 2758, datetime.datetime(2014, 9, 1, 0, 0): 2914, datetime.datetime(2012, 12, 1, 0, 0): 2791, datetime.datetime(2012, 3, 1, 0, 0): 2743, datetime.datetime(2013, 8, 1, 0, 0): 2859, datetime.datetime(2014, 4, 1, 0, 0): 2862, datetime.datetime(2012, 5, 1, 0, 0): 2999, datetime.datetime(2014, 6, 1, 0, 0): 2931, datetime.datetime(2013, 3, 1, 0, 0): 2862, datetime.datetime(2012, 11, 1, 0, 0): 2729, datetime.datetime(2014, 2, 1, 0, 0): 2361, datetime.datetime(2014, 7, 1, 0, 0): 2884, datetime.datetime(2013, 1, 1, 0, 0): 2864, datetime.datetime(2014, 11, 1, 0, 0): 2756, datetime.datetime(2013, 12, 1, 0, 0): 2765, datetime.datetime(2014, 8, 1, 0, 0): 2970, datetime.datetime(2012, 6, 1, 0, 0): 2826, datetime.datetime(2013, 5, 1, 0, 0): 2806, datetime.datetime(2013, 6, 1, 0, 0): 2920, datetime.datetime(2013, 4, 1, 0, 0): 2798, datetime.datetime(2012, 8, 1, 0, 0): 2954, datetime.datetime(2012, 4, 1, 0, 0): 2795, datetime.datetime(2013, 10, 1, 0, 0): 2808, datetime.datetime(2013, 9, 1, 0, 0): 2742, datetime.datetime(2014, 5, 1, 0, 0): 2864}\n"
     ]
    }
   ],
   "source": [
    "import datetime\n",
    "\n",
    "\n",
    "\n",
    "dates = [(datetime.datetime(year=int(row[1]), month=int(row[2]),day = 1)) for row in data]\n",
    "\n",
    "#print(dates[:5])\n",
    "\n",
    "date_counts = {}\n",
    "\n",
    "for i in dates:\n",
    "    if i in date_counts:\n",
    "        date_counts[i] += 1\n",
    "    else:\n",
    "        date_counts[i] = 1\n",
    "        \n",
    "print(date_counts)"
   ]
  },
  {
   "cell_type": "code",
   "execution_count": 7,
   "metadata": {
    "collapsed": false
   },
   "outputs": [
    {
     "name": "stdout",
     "output_type": "stream",
     "text": [
      "{'F': 14449, 'M': 86349}\n"
     ]
    }
   ],
   "source": [
    "sex = [row[5] for row in data]\n",
    "\n",
    "sex_counts = {}\n",
    "\n",
    "for i in sex:\n",
    "    if i in sex_counts:\n",
    "        sex_counts[i] += 1\n",
    "    else:\n",
    "        sex_counts[i] = 1\n",
    "        \n",
    "print(sex_counts)"
   ]
  },
  {
   "cell_type": "code",
   "execution_count": 8,
   "metadata": {
    "collapsed": false
   },
   "outputs": [
    {
     "name": "stdout",
     "output_type": "stream",
     "text": [
      "{'Native American/Native Alaskan': 917, 'Hispanic': 9022, 'Asian/Pacific Islander': 1326, 'White': 66237, 'Black': 23296}\n"
     ]
    }
   ],
   "source": [
    "race = [row[7] for row in data]\n",
    "\n",
    "race_counts = {}\n",
    "\n",
    "for i in race:\n",
    "    if i in race_counts:\n",
    "        race_counts[i] += 1\n",
    "    else:\n",
    "        race_counts[i] = 1\n",
    "        \n",
    "print(race_counts)"
   ]
  },
  {
   "cell_type": "code",
   "execution_count": 9,
   "metadata": {
    "collapsed": false
   },
   "outputs": [
    {
     "name": "stdout",
     "output_type": "stream",
     "text": [
      "[['Id', 'Year', 'Id', 'Sex', 'Id', 'Hispanic Origin', 'Id', 'Id2', 'Geography', 'Total', 'Race Alone - White', 'Race Alone - Hispanic', 'Race Alone - Black or African American', 'Race Alone - American Indian and Alaska Native', 'Race Alone - Asian', 'Race Alone - Native Hawaiian and Other Pacific Islander', 'Two or More Races'], ['cen42010', 'April 1, 2010 Census', 'totsex', 'Both Sexes', 'tothisp', 'Total', '0100000US', '', 'United States', '308745538', '197318956', '44618105', '40250635', '3739506', '15159516', '674625', '6984195']]\n"
     ]
    }
   ],
   "source": [
    "file1 = open('census.csv')\n",
    "census = list(csv.reader(file1))\n",
    "\n",
    "print(census[:5])"
   ]
  },
  {
   "cell_type": "markdown",
   "metadata": {},
   "source": [
    "### Gun deaths are mostly among Black and White races in United States"
   ]
  },
  {
   "cell_type": "code",
   "execution_count": 10,
   "metadata": {
    "collapsed": false
   },
   "outputs": [
    {
     "name": "stdout",
     "output_type": "stream",
     "text": [
      "{'White': 33.56849303419181, 'Hispanic': 20.220491210910907, 'Asian/Pacific Islander': 8.374309664161762, 'Native American/Native Alaskan': 24.521955573811088, 'Black': 57.8773477735196}\n"
     ]
    }
   ],
   "source": [
    "# Finding the gun deaths per 1000000 people on the basis of race\n",
    "\n",
    "mapping = {'Hispanic':44618105, 'Black':40250635,'White' : 197318956,'Asian/Pacific Islander': 15834141 , 'Native American/Native Alaskan':3739506}\n",
    "\n",
    "race_per_hundredk = {}\n",
    "\n",
    "for i in race_counts:\n",
    "    race_per_hundredk[i] = (race_counts[i]/mapping[i])*100000\n",
    "    \n",
    "print(race_per_hundredk)"
   ]
  },
  {
   "cell_type": "markdown",
   "metadata": {},
   "source": [
    "### Suicides with the use of gun is mostly among White Americans whereas homicides is mostly among Black Americans"
   ]
  },
  {
   "cell_type": "code",
   "execution_count": 11,
   "metadata": {
    "collapsed": false
   },
   "outputs": [
    {
     "name": "stdout",
     "output_type": "stream",
     "text": [
      "{'Black': 48.471284987180944, 'Hispanic': 12.627161104219914, 'Asian/Pacific Islander': 3.530346230970155, 'White': 4.6356417981453335, 'Native American/Native Alaskan': 8.717729026240365}\n"
     ]
    }
   ],
   "source": [
    "# Finding the homicides per 1000000 people on the basis of race\n",
    "\n",
    "intents = [row[3] for row in data]\n",
    "races = [row[7] for row in data]\n",
    "\n",
    "homicide_race_counts = {}\n",
    "\n",
    "for i, race in enumerate(races):\n",
    "    \n",
    "    if intents[i] == 'Homicide':\n",
    "        \n",
    "        if race in homicide_race_counts:\n",
    "            homicide_race_counts[race] = homicide_race_counts[race] + 1\n",
    "        else:\n",
    "            homicide_race_counts[race] = 1\n",
    "        \n",
    "homicide_per_hundredk = {}\n",
    "\n",
    "for i in homicide_race_counts:\n",
    "    homicide_per_hundredk[i] = (homicide_race_counts[i]/mapping[i])*100000\n",
    "    \n",
    "print(homicide_per_hundredk)"
   ]
  },
  {
   "cell_type": "code",
   "execution_count": 14,
   "metadata": {
    "collapsed": false
   },
   "outputs": [
    {
     "name": "stdout",
     "output_type": "stream",
     "text": [
      "{'Undetermined', 'Accidental', 'Homicide', 'Suicide', 'NA'}\n",
      "{'Undetermined': 807, 'Accidental': 1639, 'Suicide': 63175, 'NA': 1, 'Homicide': 35176}\n"
     ]
    }
   ],
   "source": [
    "# Count of Different Intents\n",
    "\n",
    "unique_intents = set(intents)\n",
    "\n",
    "print(unique_intents)\n",
    "\n",
    "count_intents = {}\n",
    "\n",
    "for i in intents:\n",
    "    if i in count_intents:\n",
    "        count_intents[i] += 1\n",
    "    else:\n",
    "        count_intents[i] = 1\n",
    "        \n",
    "print(count_intents)"
   ]
  },
  {
   "cell_type": "code",
   "execution_count": 16,
   "metadata": {
    "collapsed": false
   },
   "outputs": [
    {
     "name": "stdout",
     "output_type": "stream",
     "text": [
      "{'White': 28.06217969245692, 'Hispanic': 7.106980451097149, 'Asian/Pacific Islander': 4.705023152187416, 'Native American/Native Alaskan': 14.841532544673013, 'Black': 8.278130270491385}\n"
     ]
    }
   ],
   "source": [
    "# Finding the suicides per 1000000 people on the basis of race\n",
    "\n",
    "suicides_race_counts = {}\n",
    "\n",
    "for i, race in enumerate(races):\n",
    "    \n",
    "    \n",
    "    \n",
    "    if intents[i] == 'Suicide':\n",
    "        \n",
    "        if race in suicides_race_counts:\n",
    "            suicides_race_counts[race] = suicides_race_counts[race] + 1\n",
    "        else:\n",
    "            suicides_race_counts[race] = 1\n",
    "        \n",
    "suicides_per_hundredk = {}\n",
    "\n",
    "for i in suicides_race_counts:\n",
    "    suicides_per_hundredk[i] = (suicides_race_counts[i]/mapping[i])*100000\n",
    "    \n",
    "print(suicides_per_hundredk)"
   ]
  },
  {
   "cell_type": "code",
   "execution_count": 27,
   "metadata": {
    "collapsed": true
   },
   "outputs": [],
   "source": [
    "# Function to find death rate due to different intents among different year\n",
    "\n",
    "def intent_death_rate(year,intent):\n",
    "    \n",
    "    intents = [row[3] for row in data]\n",
    "    races = [row[7] for row in data]\n",
    "    \n",
    "    years = [row[1] for row in data]\n",
    "    \n",
    "    race_counts = {}\n",
    "\n",
    "    for i, race in enumerate(races):\n",
    "        \n",
    "        if years[i] == year:\n",
    "\n",
    "            if intents[i] == intent:\n",
    "\n",
    "                if race in race_counts:\n",
    "                    race_counts[race] = race_counts[race] + 1\n",
    "                else:\n",
    "                    race_counts[race] = 1\n",
    "\n",
    "    intent_per_hundredk = {}\n",
    "\n",
    "    for i in race_counts:\n",
    "        intent_per_hundredk[i] = (race_counts[i]/mapping[i])*100000\n",
    "\n",
    "    return intent_per_hundredk"
   ]
  },
  {
   "cell_type": "code",
   "execution_count": 28,
   "metadata": {
    "collapsed": false
   },
   "outputs": [
    {
     "name": "stdout",
     "output_type": "stream",
     "text": [
      "Number of Gun deaths due to Suicides in 2013\n",
      "{'Native American/Native Alaskan': 5.054143515212972, 'Hispanic': 2.3174449026914075, 'Asian/Pacific Islander': 1.6862297740054228, 'White': 9.431430399418899, 'Black': 2.670765318360816}\n",
      "Number of Gun deaths due to Suicides in 2012\n",
      "{'White': 9.165363717006489, 'Hispanic': 2.292791233513839, 'Asian/Pacific Islander': 1.5283430910461135, 'Native American/Native Alaskan': 5.0274020151324805, 'Black': 2.8024402596381397}\n",
      "Number of Gun deaths due to Suicides in 2014\n",
      "{'White': 9.46538557603153, 'Hispanic': 2.4967443148919033, 'Asian/Pacific Islander': 1.4904502871358793, 'Native American/Native Alaskan': 4.759987014327561, 'Black': 2.804924692492429}\n"
     ]
    }
   ],
   "source": [
    "unique_years = set(years)\n",
    "\n",
    "for i in unique_years:\n",
    "    \n",
    "    print(\"Number of Gun deaths due to Suicides in\", i)\n",
    "    print(intent_death_rate(i,'Suicide'))"
   ]
  },
  {
   "cell_type": "code",
   "execution_count": 29,
   "metadata": {
    "collapsed": false
   },
   "outputs": [
    {
     "name": "stdout",
     "output_type": "stream",
     "text": [
      "Number of Gun deaths due to Homicides in 2013\n",
      "{'Black': 16.15626685144222, 'Hispanic': 4.114921510001377, 'Asian/Pacific Islander': 1.1430995846253988, 'Native American/Native Alaskan': 2.593925507807716, 'White': 1.5492682821613954}\n",
      "Number of Gun deaths due to Homicides in 2012\n",
      "{'Black': 16.58607373523424, 'Hispanic': 4.417489268089714, 'Asian/Pacific Islander': 1.2946708002663359, 'White': 1.5893049829434533, 'Native American/Native Alaskan': 2.8078575084516513}\n",
      "Number of Gun deaths due to Homicides in 2014\n",
      "{'Black': 15.728944400504488, 'Hispanic': 4.094750326128821, 'Asian/Pacific Islander': 1.09257584607842, 'Native American/Native Alaskan': 3.3159460099809976, 'White': 1.497068533040485}\n"
     ]
    }
   ],
   "source": [
    "for i in unique_years:\n",
    "    \n",
    "    print(\"Number of Gun deaths due to Homicides in\", i)\n",
    "    print(intent_death_rate(i,'Homicide'))"
   ]
  },
  {
   "cell_type": "code",
   "execution_count": 36,
   "metadata": {
    "collapsed": true
   },
   "outputs": [],
   "source": [
    "# Function to find death rate due to different intents \n",
    "# among different year by gender\n",
    "\n",
    "def intent_gender_deathrate(year,intent):\n",
    "    \n",
    "    intents = [row[3] for row in data]\n",
    "   \n",
    "    years = [row[1] for row in data]\n",
    "    gender = [row[5] for row in data]\n",
    "    \n",
    "    gender_counts = {}\n",
    "\n",
    "    for i, sex in enumerate(gender):\n",
    "        \n",
    "        if years[i] == year:\n",
    "\n",
    "            if intents[i] == intent:\n",
    "\n",
    "                if sex in gender_counts:\n",
    "                    gender_counts[sex] = gender_counts[sex] + 1\n",
    "                else:\n",
    "                    gender_counts[sex] = 1\n",
    "\n",
    "    return gender_counts"
   ]
  },
  {
   "cell_type": "markdown",
   "metadata": {},
   "source": [
    "### Homicides among Male and Female is decreased from 2012 to 2014"
   ]
  },
  {
   "cell_type": "code",
   "execution_count": 37,
   "metadata": {
    "collapsed": false
   },
   "outputs": [
    {
     "name": "stdout",
     "output_type": "stream",
     "text": [
      "Number of Gun deaths due to Homicides in 2013\n",
      "{'F': 1784, 'M': 9890}\n",
      "Number of Gun deaths due to Homicides in 2012\n",
      "{'F': 1843, 'M': 10250}\n",
      "Number of Gun deaths due to Homicides in 2014\n",
      "{'F': 1746, 'M': 9663}\n"
     ]
    }
   ],
   "source": [
    "for i in unique_years:\n",
    "    \n",
    "    print(\"Number of Gun deaths due to Homicides in\", i)\n",
    "    print(intent_gender_deathrate(i,'Homicide'))"
   ]
  },
  {
   "cell_type": "markdown",
   "metadata": {},
   "source": [
    "### Suicides among Male and Female has increased from 2012 to 2014"
   ]
  },
  {
   "cell_type": "code",
   "execution_count": 38,
   "metadata": {
    "collapsed": false
   },
   "outputs": [
    {
     "name": "stdout",
     "output_type": "stream",
     "text": [
      "Number of Gun deaths due to Suicides in 2013\n",
      "{'F': 2934, 'M': 18241}\n",
      "Number of Gun deaths due to Suicides in 2012\n",
      "{'F': 2756, 'M': 17910}\n",
      "Number of Gun deaths due to Suicides in 2014\n",
      "{'F': 2999, 'M': 18335}\n"
     ]
    }
   ],
   "source": [
    "for i in unique_years:\n",
    "    \n",
    "    print(\"Number of Gun deaths due to Suicides in\", i)\n",
    "    print(intent_gender_deathrate(i,'Suicide'))"
   ]
  },
  {
   "cell_type": "code",
   "execution_count": 41,
   "metadata": {
    "collapsed": true
   },
   "outputs": [],
   "source": [
    "# Function to find death rate due to different intents \n",
    "# among different year by location\n",
    "\n",
    "def intent_location_deathrate(year,intent):\n",
    "    \n",
    "    intents = [row[3] for row in data]\n",
    "   \n",
    "    years = [row[1] for row in data]\n",
    "    location = [row[9] for row in data]\n",
    "    \n",
    "    location_counts = {}\n",
    "\n",
    "    for i, loc in enumerate(location):\n",
    "        \n",
    "        if years[i] == year:\n",
    "\n",
    "            if intents[i] == intent:\n",
    "\n",
    "                if loc in location_counts:\n",
    "                    location_counts[loc] = location_counts[loc] + 1\n",
    "                else:\n",
    "                    location_counts[loc] = 1\n",
    "\n",
    "    return location_counts\n"
   ]
  },
  {
   "cell_type": "markdown",
   "metadata": {},
   "source": [
    "### Number of Gun deaths in Suicides are mostly taken place at Home followed by Trade/Service Area and Farm.\n",
    "\n",
    "### Suicides at Home, Farm and School has increased over the years whereas in Sports, there has been a decrease.\n",
    "\n",
    "### Suicides at Street, Industrial/Construction Areas and Residential Institution are minimum in 2013"
   ]
  },
  {
   "cell_type": "code",
   "execution_count": 46,
   "metadata": {
    "collapsed": false
   },
   "outputs": [
    {
     "name": "stdout",
     "output_type": "stream",
     "text": [
      "Number of Gun deaths due to Suicides in 2013\n",
      " \n",
      "{'Other unspecified': 1937, 'Home': 15029, 'Farm': 128, 'Residential institution': 39, 'School/instiution': 92, 'Industrial/construction': 38, 'Street': 698, 'Sports': 38, 'Trade/service area': 545, 'Other specified': 2631}\n",
      " \n",
      "Number of Gun deaths due to Suicides in 2012\n",
      " \n",
      "{'Other unspecified': 1644, 'Street': 711, 'Farm': 113, 'Residential institution': 44, 'School/instiution': 89, 'Industrial/construction': 52, 'Home': 14726, 'Sports': 36, 'Trade/service area': 571, 'Other specified': 2680}\n",
      " \n",
      "Number of Gun deaths due to Suicides in 2014\n",
      " \n",
      "{'Sports': 24, 'Other unspecified': 1193, 'Home': 15660, 'Farm': 137, 'School/instiution': 114, 'Industrial/construction': 65, 'Street': 772, 'Residential institution': 42, 'Trade/service area': 607, 'Other specified': 2720}\n",
      " \n"
     ]
    }
   ],
   "source": [
    "# Number of deaths on the basis of location \n",
    "# due to Suicides \n",
    "\n",
    "for i in unique_years:\n",
    "    \n",
    "    print(\"Number of Gun deaths due to Suicides in\", i)\n",
    "    print(\" \")\n",
    "    print(intent_location_deathrate(i,'Suicide'))\n",
    "    print(\" \")"
   ]
  },
  {
   "cell_type": "markdown",
   "metadata": {},
   "source": [
    "### Number of Gun deaths in Homicides are mostly taken place at Home followed by Street and Trade/Service Areas.\n",
    "\n",
    "### Homicides at Home and Residential Institution have increased over the years whereas in Sports, there has been a decrease.\n",
    "\n",
    "### In 2013, Homicides at Street, Industrial/Construction Areas and School are minimum whereas maximum at Trade/Service Areas"
   ]
  },
  {
   "cell_type": "code",
   "execution_count": 47,
   "metadata": {
    "collapsed": false
   },
   "outputs": [
    {
     "name": "stdout",
     "output_type": "stream",
     "text": [
      "Number of Gun deaths due to Homicides in 2013\n",
      " \n",
      "{'Other unspecified': 1416, 'Street': 2826, 'Farm': 29, 'NA': 460, 'School/instiution': 92, 'Industrial/construction': 25, 'Residential institution': 24, 'Home': 4570, 'Sports': 9, 'Trade/service area': 575, 'Other specified': 1648}\n",
      " \n",
      "Number of Gun deaths due to Homicides in 2012\n",
      " \n",
      "{'Sports': 8, 'Other unspecified': 1235, 'Home': 4562, 'Farm': 21, 'Trade/service area': 551, 'School/instiution': 149, 'Industrial/construction': 28, 'Street': 3136, 'Residential institution': 21, 'NA': 464, 'Other specified': 1918}\n",
      " \n",
      "Number of Gun deaths due to Homicides in 2014\n",
      " \n",
      "{'Sports': 5, 'Other unspecified': 953, 'Street': 2905, 'Farm': 26, 'NA': 459, 'School/instiution': 120, 'Industrial/construction': 32, 'Home': 4481, 'Residential institution': 28, 'Trade/service area': 537, 'Other specified': 1863}\n",
      " \n"
     ]
    }
   ],
   "source": [
    "# Number of deaths on the basis of location \n",
    "# due to Homicides \n",
    "\n",
    "for i in unique_years:\n",
    "    \n",
    "    print(\"Number of Gun deaths due to Homicides in\", i)\n",
    "    print(\" \")\n",
    "    print(intent_location_deathrate(i,'Homicide'))\n",
    "    print(\" \")"
   ]
  },
  {
   "cell_type": "code",
   "execution_count": 48,
   "metadata": {
    "collapsed": true
   },
   "outputs": [],
   "source": [
    "# Function to find death rate due to different intents \n",
    "# among different year by education\n",
    "\n",
    "def intent_education_deathrate(year,intent):\n",
    "    \n",
    "    intents = [row[3] for row in data]\n",
    "   \n",
    "    years = [row[1] for row in data]\n",
    "    education = [row[10] for row in data]\n",
    "    \n",
    "    education_counts = {}\n",
    "\n",
    "    for i, edu in enumerate(education):\n",
    "        \n",
    "        if years[i] == year:\n",
    "\n",
    "            if intents[i] == intent:\n",
    "\n",
    "                if edu in education_counts:\n",
    "                    education_counts[edu] = education_counts[edu] + 1\n",
    "                else:\n",
    "                    education_counts[edu] = 1\n",
    "\n",
    "    return education_counts\n"
   ]
  },
  {
   "cell_type": "markdown",
   "metadata": {},
   "source": [
    "### People with all education level except for 5 have decreased in case of Homicides over the years "
   ]
  },
  {
   "cell_type": "code",
   "execution_count": 50,
   "metadata": {
    "collapsed": false
   },
   "outputs": [
    {
     "name": "stdout",
     "output_type": "stream",
     "text": [
      "Number of Gun deaths due to Homicides in 2013\n",
      " \n",
      "{'5': 139, '2': 5213, '1': 3885, '3': 1895, 'NA': 10, '4': 532}\n",
      " \n",
      "Number of Gun deaths due to Homicides in 2012\n",
      " \n",
      "{'5': 155, '2': 5334, '1': 4153, '3': 1891, 'NA': 16, '4': 544}\n",
      " \n",
      "Number of Gun deaths due to Homicides in 2014\n",
      " \n",
      "{'5': 161, '2': 5102, '1': 3801, '3': 1854, 'NA': 8, '4': 483}\n",
      " \n"
     ]
    }
   ],
   "source": [
    "# Number of deaths on the basis of education\n",
    "# due to Homicides \n",
    "\n",
    "for i in unique_years:\n",
    "    \n",
    "    print(\"Number of Gun deaths due to Homicides in\", i)\n",
    "    print(\" \")\n",
    "    print(intent_education_deathrate(i,'Homicide'))\n",
    "    print(\" \")"
   ]
  },
  {
   "cell_type": "markdown",
   "metadata": {},
   "source": [
    "### Gun deaths among the people with education level of 2,3 and 4 have increased in case Suicides over the years whereas people wiith education level of 5 have decreased"
   ]
  },
  {
   "cell_type": "code",
   "execution_count": 51,
   "metadata": {
    "collapsed": false
   },
   "outputs": [
    {
     "name": "stdout",
     "output_type": "stream",
     "text": [
      "Number of Gun deaths due to Suicides in 2013\n",
      " \n",
      "{'5': 280, '2': 8857, '1': 3040, '3': 5206, 'NA': 2, '4': 3790}\n",
      " \n",
      "Number of Gun deaths due to Suicides in 2012\n",
      " \n",
      "{'5': 302, '2': 8556, '1': 3152, '3': 5096, 'NA': 3, '4': 3557}\n",
      " \n",
      "Number of Gun deaths due to Suicides in 2014\n",
      " \n",
      "{'5': 294, '2': 8908, '1': 3100, '3': 5231, 'NA': 1, '4': 3800}\n",
      " \n"
     ]
    }
   ],
   "source": [
    "# Number of deaths on the basis of education\n",
    "# due to Suicides\n",
    "\n",
    "for i in unique_years:\n",
    "    \n",
    "    print(\"Number of Gun deaths due to Suicides in\", i)\n",
    "    print(\" \")\n",
    "    print(intent_education_deathrate(i,'Suicide'))\n",
    "    print(\" \")"
   ]
  },
  {
   "cell_type": "markdown",
   "metadata": {},
   "source": [
    "### Accidental Gun deaths are minimum in 2013 but it increased in 2014 by gender and people with education level of 2 and 3 have higher accidental gun deaths as compared to others."
   ]
  },
  {
   "cell_type": "code",
   "execution_count": 53,
   "metadata": {
    "collapsed": false
   },
   "outputs": [
    {
     "name": "stdout",
     "output_type": "stream",
     "text": [
      "Number of Gun deaths due to Homicides in 2013\n",
      "{'F': 64, 'M': 441}\n",
      "Number of Gun deaths due to Homicides in 2012\n",
      "{'F': 73, 'M': 475}\n",
      "Number of Gun deaths due to Homicides in 2014\n",
      "{'F': 81, 'M': 505}\n"
     ]
    }
   ],
   "source": [
    "for i in unique_years:\n",
    "    \n",
    "    print(\"Number of Gun deaths due to Accidental in\", i)\n",
    "    print(intent_gender_deathrate(i,'Accidental'))"
   ]
  },
  {
   "cell_type": "code",
   "execution_count": 55,
   "metadata": {
    "collapsed": false
   },
   "outputs": [
    {
     "name": "stdout",
     "output_type": "stream",
     "text": [
      "Number of Gun deaths due to Accidental in 2013\n",
      " \n",
      "{'5': 9, '2': 183, '1': 166, '3': 95, 'NA': 6, '4': 46}\n",
      " \n",
      "Number of Gun deaths due to Accidental in 2012\n",
      " \n",
      "{'5': 10, '2': 223, '1': 150, '3': 112, 'NA': 5, '4': 48}\n",
      " \n",
      "Number of Gun deaths due to Accidental in 2014\n",
      " \n",
      "{'5': 9, '2': 227, '1': 176, '3': 120, 'NA': 2, '4': 52}\n",
      " \n"
     ]
    }
   ],
   "source": [
    "for i in unique_years:\n",
    "    \n",
    "    print(\"Number of Gun deaths due to Accidental in\", i)\n",
    "    print(\" \")\n",
    "    print(intent_education_deathrate(i,'Accidental'))\n",
    "    print(\" \")"
   ]
  },
  {
   "cell_type": "code",
   "execution_count": null,
   "metadata": {
    "collapsed": true
   },
   "outputs": [],
   "source": []
  }
 ],
 "metadata": {
  "kernelspec": {
   "display_name": "Python 3",
   "language": "python",
   "name": "python3"
  },
  "language_info": {
   "codemirror_mode": {
    "name": "ipython",
    "version": 3
   },
   "file_extension": ".py",
   "mimetype": "text/x-python",
   "name": "python",
   "nbconvert_exporter": "python",
   "pygments_lexer": "ipython3",
   "version": "3.4.3"
  }
 },
 "nbformat": 4,
 "nbformat_minor": 0
}
